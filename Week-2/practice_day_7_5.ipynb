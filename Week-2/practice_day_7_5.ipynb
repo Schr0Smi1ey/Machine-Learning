{
 "cells": [
  {
   "cell_type": "markdown",
   "id": "cb4c212e",
   "metadata": {},
   "source": [
    "1. Common Friends"
   ]
  },
  {
   "cell_type": "code",
   "execution_count": 1,
   "id": "85754063",
   "metadata": {},
   "outputs": [
    {
     "name": "stdout",
     "output_type": "stream",
     "text": [
      "Mututal Friends: {'Sakib', 'Jamal'}\n",
      "Unique to A: {'Karim', 'Rahim'}\n",
      "Unique to B: {'Nadim', 'Rafiq'}\n",
      "Total unique friends: 6\n"
     ]
    }
   ],
   "source": [
    "a_friends = {\"Rahim\", \"Karim\", \"Sakib\", \"Jamal\"}\n",
    "b_friends = {\"Sakib\", \"Jamal\", \"Rafiq\", \"Nadim\"}\n",
    "\n",
    "mutual_friends = a_friends & b_friends\n",
    "unique_a = a_friends - mutual_friends\n",
    "unique_b = b_friends - mutual_friends\n",
    "print(f\"Mututal Friends: {mutual_friends}\")\n",
    "print(f\"Unique to A: {unique_a}\")\n",
    "print(f\"Unique to B: {unique_b}\")\n",
    "print(f\"Total unique friends: {len(a_friends | b_friends)}\")"
   ]
  },
  {
   "cell_type": "markdown",
   "id": "7c14929a",
   "metadata": {},
   "source": [
    "2. Sort Students by Marks (Tuple + Dictionary)\n"
   ]
  },
  {
   "cell_type": "code",
   "execution_count": 5,
   "id": "b84b5192",
   "metadata": {},
   "outputs": [
    {
     "name": "stdout",
     "output_type": "stream",
     "text": [
      "Top 3 students:\n",
      "Nila - 75\n",
      "Rafi - 89\n",
      "Hasan - 90\n"
     ]
    }
   ],
   "source": [
    "students = [(\"Rafi\", 89), (\"Sumi\", 95), (\"Hasan\", 90), (\"Nila\", 75), (\"Anik\", 98)]\n",
    "students.sort(key=lambda x: x[1])\n",
    "print(\"Top 3 students:\")\n",
    "for k,v in students[:3]:\n",
    "    print(f\"{k} - {v}\")\n"
   ]
  },
  {
   "cell_type": "markdown",
   "id": "ad855413",
   "metadata": {},
   "source": [
    "3. Word Length Filter (Lambda + Filter)\n"
   ]
  },
  {
   "cell_type": "code",
   "execution_count": 7,
   "id": "e64215cc",
   "metadata": {},
   "outputs": [
    {
     "name": "stdout",
     "output_type": "stream",
     "text": [
      "['planet', 'universe', 'galaxy', 'comet', 'asteroid', 'nebula', 'blackhole', 'orbit', 'satellite', 'meteor', 'quasar', 'constellation', 'cosmos', 'gravity', 'telescope', 'astronaut', 'spaceship', 'milkyway', 'eclipse', 'atmosphere', 'lightyear']\n"
     ]
    }
   ],
   "source": [
    "words = [\"sun\", \"planet\", \"moon\", \"star\", \"universe\", \n",
    "         \"galaxy\", \"comet\", \"asteroid\", \"nebula\", \"blackhole\",\n",
    "         \"orbit\", \"satellite\", \"meteor\", \"quasar\", \"constellation\",\n",
    "         \"cosmos\", \"gravity\", \"telescope\", \"astronaut\", \"spaceship\",\n",
    "         \"milkyway\", \"eclipse\", \"atmosphere\", \"lightyear\"]\n",
    "\n",
    "words = list(filter(lambda x : len(x) > 4, words))\n",
    "print(words)\n"
   ]
  },
  {
   "cell_type": "markdown",
   "id": "80f63823",
   "metadata": {},
   "source": [
    "4.  Square of Even Numbers (Map + Filter + Lambda)\n"
   ]
  },
  {
   "cell_type": "code",
   "execution_count": null,
   "id": "48292355",
   "metadata": {},
   "outputs": [
    {
     "name": "stdout",
     "output_type": "stream",
     "text": [
      "[4, 16, 36]\n"
     ]
    }
   ],
   "source": [
    "numbers = [7, 12, 3, 18, 5, 24, 9, 14, 1, 30]\n",
    "even_squares = list(map(lambda x : x**2,list(filter(lambda x : x % 2 == 0,numbers))))\n",
    "print(even_squares)"
   ]
  },
  {
   "cell_type": "markdown",
   "id": "9bac86ff",
   "metadata": {},
   "source": [
    "5. Write and Read a File\n"
   ]
  },
  {
   "cell_type": "code",
   "execution_count": 12,
   "id": "16a12535",
   "metadata": {},
   "outputs": [
    {
     "name": "stdout",
     "output_type": "stream",
     "text": [
      "Learning Python is fun!\n"
     ]
    }
   ],
   "source": [
    "with open(\"data.txt\", 'w+') as file:\n",
    "    file.write(\"Learning Python is fun!\")\n",
    "    file.seek(0)\n",
    "    content = file.read()\n",
    "    print(content)"
   ]
  },
  {
   "cell_type": "markdown",
   "id": "228c154b",
   "metadata": {},
   "source": [
    "6. Count Lines in a File\n"
   ]
  },
  {
   "cell_type": "code",
   "execution_count": 13,
   "id": "acaeeea6",
   "metadata": {},
   "outputs": [
    {
     "name": "stdout",
     "output_type": "stream",
     "text": [
      "The Lost Key of Eldoria\n",
      "\n",
      "In the quiet village of Oakhaven, young Elara discovered an ancient map hidden in her grandmother's attic. The parchment was fragile and yellowed with age, showing paths through the Whispering Woods that no one had traveled in centuries.\n",
      "\n",
      "According to village legends, the map led to the Key of Eldoria - a magical artifact that could control the seasons themselves. Elara knew she had to find it before the Eternal Winter consumed their lands.\n",
      "\n",
      "With nothing but her courage and the mysterious map, she ventured into the dark forest. The trees seemed to watch her every move, their leaves rustling secrets in the wind. After three days of journey, she found the first landmark - the Stone of Memories.\n",
      "\n",
      "As she placed her hand on the cold stone, visions flooded her mind. She saw the key's creator, an ancient sorcerer who had hidden it to protect the world from those who would misuse its power. The vision showed her the next step: follow the river of stars.\n",
      "\n",
      "Little did she know that the forest guardian, a majestic silver wolf, had been watching her from the shadows, waiting for the chosen one to continue the quest.\n",
      "Operation Successfull!\n"
     ]
    }
   ],
   "source": [
    "try:\n",
    "    file = open(\"story.txt\", 'r')\n",
    "except Exception as e:\n",
    "    print(e)\n",
    "else:\n",
    "    content = file.read()\n",
    "    print(content)\n",
    "finally:\n",
    "    print(\"Operation Successfull!\")"
   ]
  }
 ],
 "metadata": {
  "kernelspec": {
   "display_name": "Python 3",
   "language": "python",
   "name": "python3"
  },
  "language_info": {
   "codemirror_mode": {
    "name": "ipython",
    "version": 3
   },
   "file_extension": ".py",
   "mimetype": "text/x-python",
   "name": "python",
   "nbconvert_exporter": "python",
   "pygments_lexer": "ipython3",
   "version": "3.13.3"
  }
 },
 "nbformat": 4,
 "nbformat_minor": 5
}
