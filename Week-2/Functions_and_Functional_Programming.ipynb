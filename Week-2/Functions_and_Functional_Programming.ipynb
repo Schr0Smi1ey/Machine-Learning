{
 "cells": [
  {
   "cell_type": "markdown",
   "id": "a21b6a48-59af-467c-a8b3-0ec6512e7f54",
   "metadata": {},
   "source": [
    "### Functions & Functional Programming"
   ]
  },
  {
   "cell_type": "code",
   "execution_count": 2,
   "id": "9fcf86c4-e5b8-4183-8143-50d91e2c0019",
   "metadata": {},
   "outputs": [
    {
     "name": "stdout",
     "output_type": "stream",
     "text": [
      "Hello!\n"
     ]
    }
   ],
   "source": [
    "def greet():\n",
    "    print(\"Hello!\")\n",
    "\n",
    "greet()"
   ]
  },
  {
   "cell_type": "markdown",
   "id": "889c7574-c7da-4815-bfc7-3d354d3a76cb",
   "metadata": {},
   "source": [
    "### Functions Parameter (Input)\n"
   ]
  },
  {
   "cell_type": "code",
   "execution_count": 4,
   "id": "204f3525-30f3-4f28-a3d5-f37e581d7970",
   "metadata": {},
   "outputs": [
    {
     "name": "stdout",
     "output_type": "stream",
     "text": [
      "Hello, guest!\n",
      "Hello, Sarafat Karim!\n"
     ]
    }
   ],
   "source": [
    "def greet(user = \"guest\"): # here 'guest' is a default parameter, if no parameter is passed\n",
    "    print(f\"Hello, {user}!\")\n",
    "\n",
    "greet()\n",
    "greet(\"Sarafat Karim\")"
   ]
  },
  {
   "cell_type": "markdown",
   "id": "2438f03a-118f-4b33-b7bf-f3a645750292",
   "metadata": {},
   "source": [
    "### Return statement and positional argument in function"
   ]
  },
  {
   "cell_type": "code",
   "execution_count": 8,
   "id": "9be7d856-7b52-47b4-b820-6de6536e99ff",
   "metadata": {},
   "outputs": [
    {
     "name": "stdout",
     "output_type": "stream",
     "text": [
      "a = 2, b = 3\n",
      "13\n"
     ]
    }
   ],
   "source": [
    "def square_addition(a, b):\n",
    "    print(f\"a = {a}, b = {b}\")\n",
    "    return (a**2 + b**2)\n",
    "\n",
    "print(square_addition(2, 3))   # here in the function parameter 'a' will have 2 and 'b' will have '3'....this is positional argument"
   ]
  },
  {
   "cell_type": "markdown",
   "id": "c8f0cb21-d00b-4d04-ad75-789bf3d35d62",
   "metadata": {},
   "source": [
    "### keyword Argument in python"
   ]
  },
  {
   "cell_type": "code",
   "execution_count": 9,
   "id": "8c8bc5ba-2e59-4bd2-9765-8f3943e2056c",
   "metadata": {},
   "outputs": [
    {
     "name": "stdout",
     "output_type": "stream",
     "text": [
      "a = 4, b = 2, c = 3\n",
      "29\n"
     ]
    }
   ],
   "source": [
    "def square_addition(a, b, c):\n",
    "    print(f\"a = {a}, b = {b}, c = {c}\")\n",
    "    return (a**2 + b**2 + c**2)\n",
    "\n",
    "print(square_addition(b = 2,c = 3,a = 4)) # here we defined by keyword that which will pass to which variable"
   ]
  },
  {
   "cell_type": "markdown",
   "id": "d68dc02e-2104-4afd-b34c-4ebe14a2a702",
   "metadata": {},
   "source": [
    "### Variable size argument"
   ]
  },
  {
   "cell_type": "code",
   "execution_count": 11,
   "id": "82f9d3e7-0037-4c58-ad02-18bf175e1bd7",
   "metadata": {},
   "outputs": [
    {
     "name": "stdout",
     "output_type": "stream",
     "text": [
      "(1, 2, 3, 4, 5, 6)\n",
      "21\n",
      "(1, 2, 3, 4, 5, 6, 7, 8, 8, 3, 3, 2)\n",
      "52\n"
     ]
    }
   ],
   "source": [
    "def sum(*args): # args will contain all my passed arguments in a tuple, no matter how many passed\n",
    "    summation = 0\n",
    "    print(args)\n",
    "    for i in args:\n",
    "        summation += i\n",
    "    return summation\n",
    "\n",
    "print(sum(1,2,3, 4,5 ,6))\n",
    "print(sum(1,2,3,4,5,6,7,8,8,3,3,2))"
   ]
  },
  {
   "cell_type": "markdown",
   "id": "16d9c6d5-8bfd-4e89-8693-00d408aed1f9",
   "metadata": {},
   "source": [
    "### Keyword arguments"
   ]
  },
  {
   "cell_type": "code",
   "execution_count": 14,
   "id": "864101ac-f5b3-4377-ba30-8ba0a4183499",
   "metadata": {},
   "outputs": [
    {
     "name": "stdout",
     "output_type": "stream",
     "text": [
      "Name --> Sarafat Karim\n",
      "Student_ID --> 220216\n",
      "Discipline --> CSE\n"
     ]
    }
   ],
   "source": [
    "def student(**keyargs): # so this keyargs store all the keyword argument in a dictionary\n",
    "    for k, v in keyargs.items():\n",
    "        print(f\"{k} --> {v}\")\n",
    "\n",
    "student(Name = \"Sarafat Karim\", Student_ID = 220216, Discipline = \"CSE\")"
   ]
  },
  {
   "cell_type": "markdown",
   "id": "be06414f-0eea-4d14-b70e-50759b09fae7",
   "metadata": {},
   "source": [
    "### Return Statement"
   ]
  },
  {
   "cell_type": "code",
   "execution_count": 25,
   "id": "9f81954b-98d2-4801-b023-16bcfffaee30",
   "metadata": {},
   "outputs": [
    {
     "name": "stdout",
     "output_type": "stream",
     "text": [
      "1.  <class 'int'> 10\n",
      "2.  <class 'float'> 10.5\n",
      "3.  <class 'str'> Sarafat\n",
      "4.  <class 'tuple'> (10, 20)\n",
      "5.  <class 'tuple'> ([1, 2, 3, 4], {2, 3, 4, 5}, {'name': 'Sarafat Karim', 'Student ID': 220216}, (2, 3, 4, 5, [1, 2, 3, 4]))\n"
     ]
    }
   ],
   "source": [
    "def test():\n",
    "    return 10  # will be return as 'int'\n",
    "print(\"1. \", type(test()), test())\n",
    "\n",
    "def test():\n",
    "    return 10.5 # will be return as 'float'\n",
    "print(\"2. \", type(test()), test())\n",
    "\n",
    "def test():\n",
    "    return \"Sarafat\" # will be return as 'str'\n",
    "print(\"3. \", type(test()), test())\n",
    "\n",
    "def test():\n",
    "    return 10, 20 # multiple return value will always pass as tuple\n",
    "print(\"4. \", type(test()), test())\n",
    "\n",
    "def test():\n",
    "    lst = [1, 2, 3,4]\n",
    "    st = {2, 3,4,5}\n",
    "    dic = {'name': \"Sarafat Karim\", \"Student ID\": 220216}\n",
    "    tup = (2,3,4,5,lst)\n",
    "    return lst, st, dic, tup\n",
    "print(\"5. \", type(test()), test())"
   ]
  },
  {
   "cell_type": "markdown",
   "id": "e2d0bde5-69c9-469f-ac87-2aa8365c43f4",
   "metadata": {},
   "source": [
    "### Unpacking"
   ]
  },
  {
   "cell_type": "code",
   "execution_count": 26,
   "id": "091379c9-9ffd-4319-a3ab-a04f32fba95b",
   "metadata": {},
   "outputs": [
    {
     "name": "stdout",
     "output_type": "stream",
     "text": [
      "[1, 2, 3, 4] {2, 3, 4, 5} {'name': 'Sarafat Karim', 'Student ID': 220216} (2, 3, 4, 5, [1, 2, 3, 4])\n"
     ]
    }
   ],
   "source": [
    "def test():\n",
    "    lst = [1, 2, 3,4]\n",
    "    st = {2, 3,4,5}\n",
    "    dic = {'name': \"Sarafat Karim\", \"Student ID\": 220216}\n",
    "    tup = (2,3,4,5,lst)\n",
    "    return lst, st, dic, tup\n",
    "\n",
    "a, b, c, d = test() # here a will have the list, b --> st, c --> dic, d --> tup\n",
    "\n",
    "print(a, b, c, d)\n"
   ]
  },
  {
   "cell_type": "markdown",
   "id": "6b10a4b5-1f7a-4456-8e9f-c8d91257d485",
   "metadata": {},
   "source": [
    "# Iterator\n",
    "\n",
    "## Core Methods\n",
    "\n",
    "### `iter()` \n",
    "- **Purpose**: Creates an iterator from an iterable object\n",
    "- **Syntax**: `iter(iterable)`\n",
    "- **Returns**: Iterator object\n",
    "\n",
    "### `next()`\n",
    "- **Purpose**: Returns the next item from an iterator\n",
    "- **Syntax**: `next(iterator, default)`\n",
    "- **Parameter**:\n",
    "  - iterator: The iterator object\n",
    "  - default (optional): Value to return if iterator is exhausted"
   ]
  },
  {
   "cell_type": "code",
   "execution_count": 32,
   "id": "353f4846-a8ad-409d-b2e1-3068fba8023a",
   "metadata": {},
   "outputs": [
    {
     "name": "stdout",
     "output_type": "stream",
     "text": [
      "1 2 3 4 5 6 \n",
      "1 2 3 4 5 6 "
     ]
    }
   ],
   "source": [
    "st = {1, 2, 3, 4, 5, 6}\n",
    "lst = [1, 2, 3, 4, 5, 6]\n",
    "st_iter = iter(st)\n",
    "lst_iter = iter(lst)\n",
    "\n",
    "for i in range(len(st)):\n",
    "    print(next(st_iter),end=\" \")\n",
    "print()\n",
    "for i in range(len(lst)):\n",
    "    print(next(lst_iter),end=\" \")"
   ]
  },
  {
   "cell_type": "markdown",
   "id": "8099c604-cead-4423-bbfd-5f8640d3fb6f",
   "metadata": {},
   "source": [
    "# Generator\n",
    "\n",
    "## Overview\n",
    "A generator is a special type of iterator that generates values on-the-fly instead of storing them all in memory. Unlike regular functions that use `return`, generator functions use the `yield` keyword to produce a sequence of values lazily, making them memory-efficient for large datasets or infinite sequences.\n",
    "\n",
    "## Key Characteristics\n",
    "- **Lazy Evaluation**: Values are generated only when requested\n",
    "- **Memory Efficient**: Doesn't store entire sequence in memory\n",
    "- **Stateful**: Remembers its state between calls\n",
    "- **Iterable**: Can be used in for-loops and with `next()`\n",
    "\n",
    "## Core Methods\n",
    "\n",
    "### Generator Creation\n",
    "**Purpose**: Creates a generator object\n",
    "\n",
    "**Syntax**:\n",
    "```python\n",
    "def generator_function():\n",
    "    yield value\n",
    "```\n",
    "## `next()`\n",
    "\n",
    "**Purpose**: Returns the next yielded value from a generator\n",
    "**Syntax**: `next(generator, default)`\n",
    "### Parameters:\n",
    "- `generator`: The generator iterator object\n",
    "- `default (optional)`: Value to return if generator is exhausted\n",
    "\n",
    "## `yield`\n",
    "\n",
    "**Purpose**: Pauses function execution and returns a value to the caller  \n",
    "**Syntax**: `yield expression`  \n",
    "**Behaviour**: Remembers state and resumes from where it left off on next call  \n",
    "\n",
    "## `send()`\n",
    "\n",
    "**Purpose**: Sends a value into a generator and resumes execution  \n",
    "**Syntax**: `generator.send(value)`   \n",
    "**Return**: Next yielded value\n",
    "\n",
    "## `throw()`\n",
    "**Purpose**: Raises an exception inside the generator  \n",
    "**Syntax**: `generator.throw(exception_type, value, traceback)`\n",
    "\n",
    "## `close()`\n",
    "**Purpose**: Terminates the generator  \n",
    "**Syntax**: `generator.close()`"
   ]
  },
  {
   "cell_type": "code",
   "execution_count": 33,
   "id": "bbc47a4c-c71f-4ba9-b890-5870b1260e61",
   "metadata": {},
   "outputs": [
    {
     "name": "stdout",
     "output_type": "stream",
     "text": [
      "<class 'generator'>\n",
      "[0, 1, 2, 3, 4]\n",
      "[5, 6, 7, 8, 9]\n"
     ]
    }
   ],
   "source": [
    "lst = [x for x in range(500)] # dataset\n",
    "\n",
    "def data_loader(chunk_size, lst):\n",
    "    for i in range(0, len(lst), chunk_size):\n",
    "        yield lst[i : i + chunk_size]\n",
    "\n",
    "x = data_loader(5, lst)\n",
    "print(type(x)) # generator data type\n",
    "\n",
    "print(next(x))\n",
    "print(next(x))"
   ]
  },
  {
   "cell_type": "markdown",
   "id": "0471e5e9-00f5-439f-92af-0ed992eef3b4",
   "metadata": {},
   "source": [
    "# Lambda Functions in Python\n",
    "\n",
    "## Overview\n",
    "- Lambda functions are anonymous, inline functions.\n",
    "- defined using the `lambda` keyword.\n",
    "- They are used for creating small, one-time use functions without a formal `def` statement.\n",
    "\n",
    "## Syntax\n",
    "```python\n",
    "lambda arguments: expression\n",
    "```"
   ]
  },
  {
   "cell_type": "code",
   "execution_count": 36,
   "id": "03d5ad81-3bb8-46e3-8038-dda3fe0d5275",
   "metadata": {},
   "outputs": [
    {
     "name": "stdout",
     "output_type": "stream",
     "text": [
      "25\n",
      "True\n"
     ]
    }
   ],
   "source": [
    "square_add = lambda a,b: a**2 + b**2\n",
    "print(square_add(3,4))\n",
    "\n",
    "is_even = lambda x : x % 2 == 0\n",
    "print(is_even(10))"
   ]
  },
  {
   "cell_type": "markdown",
   "id": "a8f8769e-a706-4905-8410-9ee2fed7536c",
   "metadata": {},
   "source": [
    "# map() Function \n",
    "\n",
    "## Overview\n",
    "The `map()` function applies a given function to each item of an iterable (like a list or a tuple) and returns an iterator.\n",
    "\n",
    "## Syntax\n",
    "```python\n",
    "map(function, iterable, ...)\n",
    "```\n",
    "## Parameters\n",
    "\n",
    "- **function**: Function to apply to each item\n",
    "- **iterable**: One or more iterables to process\n",
    "\n",
    "## Returns\n",
    "\n",
    "Map object (iterator) containing the results"
   ]
  },
  {
   "cell_type": "code",
   "execution_count": 41,
   "id": "b6ba6f2f-8ac7-4e0b-bc45-76da5622ab43",
   "metadata": {},
   "outputs": [
    {
     "name": "stdout",
     "output_type": "stream",
     "text": [
      "1.  [1, 4, 9, 16, 25, 36]\n",
      "2.  {1, 4, 36, 9, 16, 25}\n",
      "3.  [0, 4, 0, 8, 0, 12, 8, 0, 4, 0, 4]\n"
     ]
    }
   ],
   "source": [
    "# example - 01\n",
    "lst = [1, 2, 3, 4, 5, 6]\n",
    "\n",
    "def square(x):\n",
    "    return x ** 2\n",
    "lst = list(map(square, lst))\n",
    "print(\"1. \", lst)\n",
    "\n",
    "\n",
    "# example - 02\n",
    "st = {1, 2, 3, 4, 5, 6}\n",
    "st = set(map(lambda x : x ** 2, st))\n",
    "print(\"2. \", st)\n",
    "\n",
    "# example - 03\n",
    "lst = [1, 2, 3, 4, 5, 6, 4, 3, 2, 1, 2]\n",
    "lst = list(map(lambda x : x * 2 if x % 2 == 0 else x * 0, lst))\n",
    "print(\"3. \", lst)"
   ]
  },
  {
   "cell_type": "markdown",
   "id": "b8aff016-b671-48ae-aff6-f47c943032ac",
   "metadata": {},
   "source": [
    "# filter() Function in Python\n",
    "\n",
    "## Overview\n",
    "The `filter()` function constructs an iterator from elements of an iterable for which a function returns `True`.\n",
    "\n",
    "## Syntax\n",
    "```python\n",
    "filter(function, iterable)\n",
    "```\n",
    "## Parameters\n",
    "\n",
    "- **function**: Function that tests each element (returns `True`/`False`)\n",
    "- **iterable**: Iterable to be filtered\n",
    "\n",
    "## Returns\n",
    "\n",
    "Filter object (iterator) containing elements that passed the function test"
   ]
  },
  {
   "cell_type": "code",
   "execution_count": 51,
   "id": "2f5c6865-87b7-4303-ae17-bef9089c07cd",
   "metadata": {},
   "outputs": [
    {
     "name": "stdout",
     "output_type": "stream",
     "text": [
      "[0, 2, 4, 6, 8, 10, 12, 14, 16, 18, 20, 22, 24, 26, 28, 30, 32, 34, 36, 38, 40, 42, 44, 46, 48]\n",
      "[[1, 2, 3], 3, 4, 'karim', (1, 2, 3)]\n",
      "aaaaiaaio\n"
     ]
    }
   ],
   "source": [
    "# example - 01\n",
    "lst = [x for x in range(50)]\n",
    "\n",
    "lst = list(filter(lambda x : x % 2 == 0, lst))\n",
    "print(lst)\n",
    "\n",
    "# example - 02\n",
    "dataset = [None, [1, 2, 3], 3, 4, \"karim\", (1, 2, 3), None]\n",
    "dataset = list(filter(None,dataset))\n",
    "print(dataset)\n",
    "\n",
    "\n",
    "# example - 03\n",
    "string = \"Sarafat Karim Sajjad Milon.\"\n",
    "vowels = ''.join(list(filter(lambda x : x in \"aeiouAEIOU\",string)))\n",
    "print(vowels)"
   ]
  },
  {
   "cell_type": "markdown",
   "id": "e9f58f21-55f6-4608-9751-b9f6a282baa5",
   "metadata": {},
   "source": [
    "# reduce() Function in Python\n",
    "\n",
    "## Overview\n",
    "The `reduce()` function applies a function cumulatively to the items of an iterable, from left to right, so as to reduce the iterable to a single value.\n",
    "\n",
    "## Syntax\n",
    "```python\n",
    "from functools import reduce\n",
    "reduce(function, iterable, initializer)\n",
    "```\n",
    "## Parameters\n",
    "\n",
    "- **function**: Function that takes two arguments and returns a single value\n",
    "- **iterable**: Iterable to process\n",
    "- **initializer** (optional): Starting value\n",
    "\n",
    "## Returns\n",
    "\n",
    "Single accumulated value"
   ]
  },
  {
   "cell_type": "code",
   "execution_count": 55,
   "id": "6de62260-0429-4be1-b102-1e5e5e02e441",
   "metadata": {},
   "outputs": [
    {
     "name": "stdout",
     "output_type": "stream",
     "text": [
      "1. Summation -->  36\n",
      "2. Maximum -->  8\n",
      "3. Minimum -->  1\n"
     ]
    }
   ],
   "source": [
    "from functools import reduce\n",
    "\n",
    "lst = [1, 2, 3, 4, 5, 6, 7, 8]\n",
    "\n",
    "summation = reduce(lambda x,y : x + y, lst, 0)\n",
    "print(\"1. Summation --> \",  summation)\n",
    "\n",
    "maxima = reduce(lambda x, y : max(x, y), lst)\n",
    "print(\"2. Maximum --> \", maxima)\n",
    "\n",
    "minima = reduce(lambda x, y : min(x, y), lst)\n",
    "print(\"3. Minimum --> \", minima)"
   ]
  },
  {
   "cell_type": "code",
   "execution_count": null,
   "id": "820d7a99-c50d-4ee4-b6f2-bed86861250f",
   "metadata": {},
   "outputs": [],
   "source": []
  }
 ],
 "metadata": {
  "kernelspec": {
   "display_name": "Python 3 (ipykernel)",
   "language": "python",
   "name": "python3"
  },
  "language_info": {
   "codemirror_mode": {
    "name": "ipython",
    "version": 3
   },
   "file_extension": ".py",
   "mimetype": "text/x-python",
   "name": "python",
   "nbconvert_exporter": "python",
   "pygments_lexer": "ipython3",
   "version": "3.13.5"
  }
 },
 "nbformat": 4,
 "nbformat_minor": 5
}
