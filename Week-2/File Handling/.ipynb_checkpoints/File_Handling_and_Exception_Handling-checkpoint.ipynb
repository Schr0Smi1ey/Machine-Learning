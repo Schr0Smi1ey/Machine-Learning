{
 "cells": [
  {
   "cell_type": "markdown",
   "id": "59a61b66-849e-42c6-9a6e-b5181450b1b8",
   "metadata": {},
   "source": [
    "# File Handling in Python\n",
    "\n",
    "File handling allows you to work with files on your computer system - creating, reading, updating, and deleting files.\n",
    "\n",
    "## Basic Operations\n",
    "\n",
    "### Opening Files\n",
    "```python\n",
    "# Basic syntax\n",
    "file = open(\"filename.txt\", \"mode\")\n",
    "```\n",
    "## Common Modes\n",
    "- `'r'` - Read (default) - Opens file for reading only\n",
    "- `'w'` - Write (overwrites) - Creates new file or overwrites existing one\n",
    "- `'a'` - Append - Adds content to end of file without overwriting\n",
    "- `'x'` - Create - Creates new file, fails if file already exists\n",
    "- `'b'` - Binary mode - Used for non-text files (images, executables, etc.)\n",
    "\n",
    "## Reading Files\n",
    "```python\n",
    "with open(\"file.txt\", \"r\") as file:\n",
    "    content = file.read()\n",
    "    # file.readlines() for list of lines\n",
    "```\n",
    "\n",
    "## Writing Files\n",
    "```python\n",
    "with open(\"file.txt\", \"w\") as file:\n",
    "    file.write(\"Hello World!\")\n",
    "```"
   ]
  },
  {
   "cell_type": "code",
   "execution_count": null,
   "id": "2d88046e-925b-4b78-8e4e-59840af99841",
   "metadata": {},
   "outputs": [],
   "source": [
    "file = "
   ]
  }
 ],
 "metadata": {
  "kernelspec": {
   "display_name": "Python 3 (ipykernel)",
   "language": "python",
   "name": "python3"
  },
  "language_info": {
   "codemirror_mode": {
    "name": "ipython",
    "version": 3
   },
   "file_extension": ".py",
   "mimetype": "text/x-python",
   "name": "python",
   "nbconvert_exporter": "python",
   "pygments_lexer": "ipython3",
   "version": "3.13.5"
  }
 },
 "nbformat": 4,
 "nbformat_minor": 5
}
