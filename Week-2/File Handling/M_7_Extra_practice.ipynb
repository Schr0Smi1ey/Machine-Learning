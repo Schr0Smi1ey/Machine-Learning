{
 "cells": [
  {
   "cell_type": "code",
   "execution_count": 20,
   "id": "cb90f3ef",
   "metadata": {},
   "outputs": [],
   "source": [
    "# problem 01\n",
    "content = []\n",
    "with open(\"emails.txt\", 'r') as file:\n",
    "    content = file.readlines()\n",
    "    content = list(set(map(str.lower,content)))\n",
    "\n",
    "with open(\"unique_emails.txt\", 'w') as file:\n",
    "    file.writelines(sorted(content))"
   ]
  },
  {
   "cell_type": "code",
   "execution_count": 24,
   "id": "0930af74",
   "metadata": {},
   "outputs": [],
   "source": [
    "content = []\n",
    "\n",
    "def formatting(s):\n",
    "    new_s = s.strip()\n",
    "    new_s = new_s.capitalize()\n",
    "    return new_s + '\\n'\n",
    "with open(\"names.txt\", 'r') as file:\n",
    "    content = sorted(list(set(map(formatting,file.readlines()))))\n",
    "with open(\"clean_names.txt\", 'w') as file:\n",
    "    file.writelines(content)"
   ]
  },
  {
   "cell_type": "code",
   "execution_count": 27,
   "id": "93c13f38",
   "metadata": {},
   "outputs": [
    {
     "name": "stdout",
     "output_type": "stream",
     "text": [
      "Invalid index!\n"
     ]
    }
   ],
   "source": [
    "lst = [1, 2, 3, 4, 5]\n",
    "\n",
    "ind = int(input(\"Please input the index : \"))\n",
    "try:\n",
    "    ans = lst[ind]\n",
    "except Exception as e:\n",
    "    print(\"Invalid index!\")\n",
    "else:\n",
    "    print(ans)"
   ]
  }
 ],
 "metadata": {
  "kernelspec": {
   "display_name": "base",
   "language": "python",
   "name": "python3"
  },
  "language_info": {
   "codemirror_mode": {
    "name": "ipython",
    "version": 3
   },
   "file_extension": ".py",
   "mimetype": "text/x-python",
   "name": "python",
   "nbconvert_exporter": "python",
   "pygments_lexer": "ipython3",
   "version": "3.13.5"
  }
 },
 "nbformat": 4,
 "nbformat_minor": 5
}
