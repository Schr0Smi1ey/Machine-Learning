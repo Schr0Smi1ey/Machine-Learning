{
 "cells": [
  {
   "cell_type": "markdown",
   "id": "59a61b66-849e-42c6-9a6e-b5181450b1b8",
   "metadata": {},
   "source": [
    "# File Handling in Python\n",
    "\n",
    "File handling allows you to work with files on your computer system - creating, reading, updating, and deleting files.\n",
    "\n",
    "## Basic Operations\n",
    "\n",
    "### Opening Files\n",
    "```python\n",
    "# Basic syntax\n",
    "file = open(\"filename.txt\", \"mode\")\n",
    "```\n",
    "## Common Modes\n",
    "- `'r'` - Read (default) - Opens file for reading only\n",
    "- `'w'` - Write (overwrites) - Creates new file or overwrites existing one\n",
    "- `'a'` - Append - Adds content to end of file without overwriting\n",
    "- `'x'` - Create - Creates new file, fails if file already exists\n",
    "- `'b'` - Binary mode - Used for non-text files (images, executables, etc.)\n",
    "\n",
    "## Reading Files\n",
    "```python\n",
    "with open(\"file.txt\", \"r\") as file:\n",
    "    content = file.read()\n",
    "    # file.readlines() for list of lines\n",
    "```\n",
    "\n",
    "## Writing Files\n",
    "```python\n",
    "with open(\"file.txt\", \"w\") as file:\n",
    "    file.write(\"Hello World!\")\n",
    "```\n",
    "\n",
    "## Basic File Methods\n",
    "\n",
    "### Reading Methods\n",
    "- `read()` - Reads entire file content as string\n",
    "- `readline()` - Reads single line from file\n",
    "- `readlines()` - Reads all lines into a list\n",
    "- `read(size)` - Reads specified number of bytes/characters\n",
    "\n",
    "### Writing Methods\n",
    "- `write(string)` - Writes string to file\n",
    "- `writelines(list)` - Writes list of strings to file\n",
    "\n",
    "### Position Methods\n",
    "- `seek(offset)` - Moves cursor to specified position\n",
    "- `tell()` - Returns current cursor position\n",
    "\n",
    "### Management Methods\n",
    "- `close()` - Closes the file\n",
    "- `flush()` - Flushes internal buffer"
   ]
  },
  {
   "cell_type": "code",
   "execution_count": 20,
   "id": "2d88046e-925b-4b78-8e4e-59840af99841",
   "metadata": {},
   "outputs": [
    {
     "name": "stdout",
     "output_type": "stream",
     "text": [
      "--------------------------------------------------\n",
      "Hello, My name is Sarafat Karim.\n",
      "I am in currently 3rd year of BSC. in Computer Science & Engineering.\n",
      "My current CGPA is 3.95.\n",
      "My age is 23.\n",
      "--------------------------------------------------\n",
      "['Hello, My name is Sarafat Karim.\\n', 'I am in currently 3rd year of BSC. in Computer Science & Engineering.\\n', 'My current CGPA is 3.95.\\n', 'My age is 23.']\n",
      "--------------------------------------------------\n",
      "Hello, My name is Sarafat Karim.\n",
      "--------------------------------------------------\n",
      "Hello, My name is Sarafat Karim.\n",
      "I am in currently\n",
      "--------------------------------------------------\n",
      "False\n",
      "--------------------------------------------------\n",
      "True\n",
      "--------------------------------------------------\n"
     ]
    }
   ],
   "source": [
    "file = open(\"sample_file.txt\",\"r\")\n",
    "\n",
    "print(\"-\"*50)\n",
    "content = file.read() # read the entire data as string\n",
    "print(content) \n",
    "print(\"-\"*50)\n",
    "\n",
    "\n",
    "file.seek(0) # Reseting the file cursor pointer\n",
    "content = file.readlines() # reads all the lines into a list separated by new line('\\n')\n",
    "print(content) # a list of all lines\n",
    "print(\"-\"*50)\n",
    "\n",
    "\n",
    "file.seek(0)\n",
    "content = file.readline() # Reading a single line from the file\n",
    "print(content,end='')\n",
    "print(\"-\"*50)\n",
    "\n",
    "\n",
    "file.seek(0)\n",
    "content = file.read(50) # Reading first 100 byte only\n",
    "print(content)\n",
    "print(\"-\"*50)\n",
    "\n",
    "print(file.closed)\n",
    "\n",
    "print(\"-\"*50)\n",
    "file.close()  # We must close the file after the operation is done!\n",
    "print(file.closed)\n",
    "print(\"-\"*50)"
   ]
  },
  {
   "cell_type": "markdown",
   "id": "dc2c1c04-ba76-4d51-9ff7-94f3c92703ea",
   "metadata": {},
   "source": [
    "\n",
    "# The `with` Statement\n",
    "\n",
    "## Overview\n",
    "The `with` statement simplifies exception handling and resource management by automatically closing files after use.\n",
    "\n",
    "## Syntax\n",
    "```python\n",
    "with open(\"filename\", \"mode\") as file:\n",
    "    # file operations here\n",
    "```\n",
    "## Key Features\n",
    "- **Automatic cleanup** - Files are automatically closed\n",
    "- - No need for manual `close()` calls\n"
   ]
  },
  {
   "cell_type": "code",
   "execution_count": 28,
   "id": "27c45a60-80bd-4bfe-996f-331df695a102",
   "metadata": {},
   "outputs": [
    {
     "name": "stdout",
     "output_type": "stream",
     "text": [
      "['Hello, My name is Sarafat Karim.\\n', 'I am in currently 3rd year of BSC. in Computer Science & Engineering.\\n', 'My current CGPA is 3.95.\\n', 'My age is 23.']\n",
      "--------------------------------------------------\n",
      "True\n",
      "--------------------------------------------------\n",
      "Hello, My name is Sarafat Karim.\n",
      "I am in currently 3rd year of BSC. in Computer Science & Engineering.\n",
      "My current CGPA is 3.95.\n",
      "My age is 23.\n",
      " --------------------------------------------------\n",
      "Hello, My name is Sarafat Karim.\n",
      "I am in currently 3rd year of BSC. in Computer Science & Engineering.\n",
      "My current CGPA is 3.95.\n",
      "My age is 23.\n"
     ]
    }
   ],
   "source": [
    "with open(\"sample_file.txt\", \"r\") as file:\n",
    "    content = file.readlines()\n",
    "    print(content)\n",
    "    \n",
    "print(\"-\"*50)\n",
    "print(file.closed)\n",
    "print(\"-\"*50)\n",
    "\n",
    "with open(\"sample_file.txt\", \"r\") as file:\n",
    "    for line in file:\n",
    "        print(line,end='')\n",
    "\n",
    "print('\\n',\"-\"*50)\n",
    "\n",
    "with open(\"sample_file.txt\", \"r\") as file:\n",
    "    for line in file:\n",
    "        l = line.strip()  # Removes leading/trailing whitespace and newline characters from the line\n",
    "        print(l)"
   ]
  },
  {
   "cell_type": "markdown",
   "id": "1b427a2e-ffa5-47ca-afb4-98155537b822",
   "metadata": {},
   "source": [
    "## File Writting Mode"
   ]
  },
  {
   "cell_type": "code",
   "execution_count": 32,
   "id": "dd60b13e-bf65-4052-9651-bb4902755d6a",
   "metadata": {},
   "outputs": [],
   "source": [
    "# Creating a new file and writing in it\n",
    "\n",
    "with open(\"test.txt\", 'w') as file: # this will create a new file as \"test.txt\" and write the following lines\n",
    "    file.write(\"Hey, buddy. What's Up?\\n\")\n",
    "    file.write(\"How is you learning going?\\n\")\n",
    "    file.writelines([\"Yeah, i am fine.\\n\",\"What about you?\\n\",\"My learning is going little tidy, but it's getting the motion slowly.\"])\n"
   ]
  },
  {
   "cell_type": "code",
   "execution_count": 36,
   "id": "2b52471f-d5f5-4648-9097-97cc46af8c15",
   "metadata": {},
   "outputs": [],
   "source": [
    "\n",
    "# writing on an existing file, it will overwrite the file with mode \"w\"\n",
    "\n",
    "with open(\"test.txt\", 'w') as file:\n",
    "    file.write(\"Can we discuss about Hobby and Personal Passion?\\n\")\n",
    "    file.write(\"Yeah sure, buddy. Absoulutely we can.\\n\")"
   ]
  },
  {
   "cell_type": "code",
   "execution_count": 39,
   "id": "55bf33e0-ebbe-4e35-8ebe-0aee2dd4c637",
   "metadata": {},
   "outputs": [],
   "source": [
    "# No overwriting, just append the text later with mode 'a'\n",
    "\n",
    "with open(\"test.txt\", 'a') as file:\n",
    "    file.write(\"Can you tell me about your hobbies?\\n\")\n",
    "    file.write(\"Yeah sure.\\n\")\n"
   ]
  },
  {
   "cell_type": "markdown",
   "id": "6ab0993a-fd46-4d0c-8e21-67843107e069",
   "metadata": {},
   "source": [
    "## File Pre-Processing"
   ]
  },
  {
   "cell_type": "code",
   "execution_count": 44,
   "id": "e9c23313-b905-4e19-ba40-4362a755dec0",
   "metadata": {},
   "outputs": [
    {
     "name": "stdout",
     "output_type": "stream",
     "text": [
      "['Can we discuss about Hobby and Personal Passion?\\n', 'Yeah sure, buddy. Absoulutely we can.\\n', 'Can you tell me about your hobbies?\\n', 'Yeah sure.\\n', 'Can you tell me about your hobbies?\\n', 'Yeah sure.\\n', 'Can you tell me about your hobbies?\\n', 'Yeah sure.\\n']\n",
      "--------------------------------------------------\n",
      "['Can we discuss about Hobby and Personal Passion?', 'Yeah sure, buddy. Absoulutely we can.', 'Can you tell me about your hobbies?', 'Yeah sure.', 'Can you tell me about your hobbies?', 'Yeah sure.', 'Can you tell me about your hobbies?', 'Yeah sure.']\n",
      "--------------------------------------------------\n",
      "['Can we discuss about Hobby and Personal Passion?', 'Yeah sure, buddy. Absoulutely we can.', 'Can you tell me about your hobbies?', 'Can you tell me about your hobbies?', 'Can you tell me about your hobbies?']\n"
     ]
    }
   ],
   "source": [
    "\n",
    "with open(\"test.txt\", 'r') as file:\n",
    "    content = file.readlines()\n",
    "    print(content)\n",
    "    print(\"-\"*50)\n",
    "    content = list(map(str.strip, content)) # removing all leading or trailing white space or new line character\n",
    "    print(content)\n",
    "    print(\"-\"*50)\n",
    "    filter_content = list(filter(lambda x : len(x) > 10, content)) # taking only those line have character > 10\n",
    "    print(filter_content)"
   ]
  },
  {
   "cell_type": "markdown",
   "id": "ee948ee2-7e5d-4ec1-b33a-da74ebdf533a",
   "metadata": {},
   "source": [
    "## File Pointer or Cursor"
   ]
  },
  {
   "cell_type": "code",
   "execution_count": 47,
   "id": "305ed21a-efd7-40b1-be88-53f4d74df94c",
   "metadata": {},
   "outputs": [
    {
     "name": "stdout",
     "output_type": "stream",
     "text": [
      "0\n",
      "236\n",
      "100\n"
     ]
    }
   ],
   "source": [
    "with open(\"test.txt\", 'r') as file:\n",
    "    print(file.tell()) # print the current cursor position\n",
    "    content = file.read() # the cursor moves to the last index as all lines are read\n",
    "    print(file.tell())\n",
    "    file.seek(100)   # getting the cursor to a specific position\n",
    "    print(file.tell())\n",
    "    "
   ]
  },
  {
   "cell_type": "markdown",
   "id": "7f12701d-7d70-4518-844d-fcbc2b04e03f",
   "metadata": {},
   "source": [
    "## Practice Problems"
   ]
  },
  {
   "cell_type": "markdown",
   "id": "4324ca6c-54e7-4a4b-8931-9a35ed542c9c",
   "metadata": {},
   "source": [
    "## Practice 1: File Analysis\n",
    "### Task\n",
    "Get the text from `sample.txt`, and count the following:\n",
    "- Number of lines\n",
    "- Number of words  \n",
    "- Number of characters  \n",
    "\n",
    "save the results to the `counter_of_string.txt` file."
   ]
  },
  {
   "cell_type": "code",
   "execution_count": 57,
   "id": "a4cb0419-a011-464b-8211-bb77657431bf",
   "metadata": {},
   "outputs": [],
   "source": [
    "with open(\"sample.txt\", 'r') as file:\n",
    "    line_cnt = 0\n",
    "    word_cnt = 0\n",
    "    char_cnt = 0\n",
    "    for line in file:\n",
    "        l = line.strip().split()\n",
    "        line_cnt += 1\n",
    "        word_cnt += len(l)\n",
    "        for word in l:\n",
    "            char_cnt += len(word)\n",
    "with open(\"counter_of_strings.txt\", 'w') as file:\n",
    "    file.writelines([\n",
    "        f\"Number of line = {line_cnt}\\n\",\n",
    "        f\"Number of words = {word_cnt}\\n\",\n",
    "        f\"Number of character = {char_cnt}\"\n",
    "    ])\n"
   ]
  },
  {
   "cell_type": "markdown",
   "id": "6195694b-5de4-4944-a470-a49bdaec153d",
   "metadata": {},
   "source": [
    "## Practice 2\n",
    "Write then read with one open"
   ]
  },
  {
   "cell_type": "code",
   "execution_count": 58,
   "id": "4c1b3eee-1ace-4731-973a-9dc326097a01",
   "metadata": {},
   "outputs": [
    {
     "name": "stdout",
     "output_type": "stream",
     "text": [
      "You are just created for the practice problem 2.\n"
     ]
    }
   ],
   "source": [
    "with open(\"practice_2.txt\", \"w+\") as file:\n",
    "    file.write(\"You are just created for the practice problem 2.\")\n",
    "    file.seek(0)\n",
    "    print(file.read())"
   ]
  },
  {
   "cell_type": "markdown",
   "id": "3dfb8d58-25a4-43f7-a2af-252e94d2a9ad",
   "metadata": {},
   "source": [
    "# Exception Handling in Python\n",
    "\n",
    "## What is Exception Handling?\n",
    "Exception handling manages runtime errors to maintain normal program flow.\n",
    "\n",
    "## Basic Syntax\n",
    "```python\n",
    "try:\n",
    "    # Code that might raise exception\n",
    "except ExceptionType:\n",
    "    # Handle the exception\n",
    "```\n",
    "\n",
    "## Complete Structure\n",
    "```python\n",
    "try:\n",
    "    # Main code block\n",
    "except SpecificError:\n",
    "    # Handle specific error\n",
    "except AnotherError:\n",
    "    # Handle another error\n",
    "except Exception as e:\n",
    "    # Handle any other exceptions\n",
    "else:\n",
    "    # Execute if no exceptions\n",
    "finally:\n",
    "    # Always execute (cleanup)\n",
    "```\n",
    "\n",
    "## Common Exceptions\n",
    "- `ValueError` - Invalid value\n",
    "- `TypeError` - Invalid operation type  \n",
    "- `IndexError` - Index out of range\n",
    "- `KeyError` - Dictionary key not found\n",
    "- `FileNotFoundError` - File doesn't exist\n",
    "- `ZeroDivisionError` - Division by zero\n",
    "\n",
    "## Multiple Exception\n",
    "\n",
    "```python\n",
    "try:\n",
    "    risky_operation()\n",
    "except (ValueError, TypeError) as e:\n",
    "    print(f\"Error: {e}\")\n",
    "```\n"
   ]
  },
  {
   "cell_type": "code",
   "execution_count": 63,
   "id": "8b9e2f94-00fe-4576-b840-eb482284a0b0",
   "metadata": {},
   "outputs": [
    {
     "name": "stdin",
     "output_type": "stream",
     "text": [
      "a =  10\n",
      "b =  0\n"
     ]
    },
    {
     "name": "stdout",
     "output_type": "stream",
     "text": [
      "You can't divide a number with zero(0)!\n"
     ]
    }
   ],
   "source": [
    "# basic handling\n",
    "\n",
    "a = int(input(\"a = \"))\n",
    "b = int(input(\"b = \"))\n",
    "\n",
    "try:\n",
    "    result = a / b\n",
    "    print(result)\n",
    "except ZeroDivisionError:\n",
    "    print(\"You can't divide a number with zero(0)!\")"
   ]
  },
  {
   "cell_type": "code",
   "execution_count": 67,
   "id": "d459cbef-6fbe-4b80-9c81-fa2fda216ae0",
   "metadata": {},
   "outputs": [
    {
     "name": "stdout",
     "output_type": "stream",
     "text": [
      "[Errno 2] No such file or directory: 'new.txt'\n",
      "Process is done!\n"
     ]
    }
   ],
   "source": [
    "# Complete Structure with no file \n",
    "\n",
    "try:\n",
    "    file = open(\"new.txt\",'r')\n",
    "except Exception as e:\n",
    "    print(e)\n",
    "else:\n",
    "    content = file.read()\n",
    "    print(content)\n",
    "finally:\n",
    "    print(\"Process is done!\")"
   ]
  },
  {
   "cell_type": "code",
   "execution_count": 69,
   "id": "70f2d647-7909-45ef-bd5a-00079cb568ca",
   "metadata": {},
   "outputs": [
    {
     "name": "stdout",
     "output_type": "stream",
     "text": [
      "Python is a versatile programming language known for its simplicity and readability. It was created by Guido van Rossum and first released in 1991. Python supports multiple programming paradigms including procedural, object-oriented, and functional programming.\n",
      "\n",
      "With its extensive standard library and vast ecosystem of third-party packages, Python is used in various domains such as web development, data science, artificial intelligence, machine learning, automation, and scientific computing.\n",
      "\n",
      "The language's clean syntax and emphasis on code readability make it an excellent choice for beginners while being powerful enough for professional developers. Python's philosophy emphasizes code readability with its notable use of significant whitespace.\n",
      "\n",
      "One of Python's key features is its dynamic type system and automatic memory management. It also supports multiple programming paradigms and has a large, comprehensive standard library often described as \"batteries included\".\n",
      "Process is done!\n"
     ]
    }
   ],
   "source": [
    "# Complete Structure with existing file \n",
    "\n",
    "try:\n",
    "    file = open(\"sample.txt\",'r')\n",
    "except Exception as e:\n",
    "    print(e)\n",
    "else:\n",
    "    content = file.read()\n",
    "    print(content)\n",
    "finally:\n",
    "    print(\"Process is done!\")"
   ]
  },
  {
   "cell_type": "code",
   "execution_count": null,
   "id": "ade24eb7-076e-4ffe-a6b5-3c4c3d8390a4",
   "metadata": {},
   "outputs": [],
   "source": []
  }
 ],
 "metadata": {
  "kernelspec": {
   "display_name": "Python 3 (ipykernel)",
   "language": "python",
   "name": "python3"
  },
  "language_info": {
   "codemirror_mode": {
    "name": "ipython",
    "version": 3
   },
   "file_extension": ".py",
   "mimetype": "text/x-python",
   "name": "python",
   "nbconvert_exporter": "python",
   "pygments_lexer": "ipython3",
   "version": "3.13.5"
  }
 },
 "nbformat": 4,
 "nbformat_minor": 5
}
