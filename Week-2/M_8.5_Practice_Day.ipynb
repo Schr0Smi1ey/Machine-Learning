{
 "cells": [
  {
   "cell_type": "code",
   "execution_count": 12,
   "id": "1547874b-5c1f-4e5f-baed-20b1a84980d8",
   "metadata": {},
   "outputs": [
    {
     "name": "stdin",
     "output_type": "stream",
     "text": [
      "Number of objects :  3\n"
     ]
    },
    {
     "name": "stdout",
     "output_type": "stream",
     "text": [
      "Object 1 details : "
     ]
    },
    {
     "name": "stdin",
     "output_type": "stream",
     "text": [
      " Car Toyota 150\n"
     ]
    },
    {
     "name": "stdout",
     "output_type": "stream",
     "text": [
      "Car Added :  Toyota\n",
      "Object 2 details : "
     ]
    },
    {
     "name": "stdin",
     "output_type": "stream",
     "text": [
      " Bike Yamaha 90\n"
     ]
    },
    {
     "name": "stdout",
     "output_type": "stream",
     "text": [
      "Bike Added :  Yamaha\n",
      "Object 3 details : "
     ]
    },
    {
     "name": "stdin",
     "output_type": "stream",
     "text": [
      " Car Honda 120\n"
     ]
    },
    {
     "name": "stdout",
     "output_type": "stream",
     "text": [
      "Car Added :  Honda\n",
      "__Vehicle Details___\n",
      "Type: Car, Name: Toyota, Speed: 150 km/h, Predicted: High-speed Vehicle\n",
      "Type: Bike, Name: Yamaha, Speed: 90 km/h, Predicted: Normal Vehicle\n",
      "Type: Car, Name: Honda, Speed: 120 km/h, Predicted: High-speed Vehicle\n"
     ]
    }
   ],
   "source": [
    "class Vehicle:\n",
    "    def __init__(self, typ, name, speed):\n",
    "        self.__typ = typ\n",
    "        self.__name = name\n",
    "        self._speed = speed\n",
    "\n",
    "    def classify(self):\n",
    "        if self._speed > 100:\n",
    "            return \"High-speed Vehicle\"\n",
    "        else:\n",
    "            return \"Normal Vehicle\"\n",
    "\n",
    "class Car(Vehicle):\n",
    "    def __init__(self,typ,name,speed):\n",
    "        super().__init__(typ,name,speed)\n",
    "\n",
    "    def show_info(self):\n",
    "        print(f\"Type: {super().__typ}, Name: {super().__name}, Speed: {super()._speed} km/h, Predicted: {super().classify()}\")\n",
    "        \n",
    "class Bike(Vehicle):\n",
    "    def __init__(self,typ,name,speed):\n",
    "        super().__init__(typ,name,speed)\n",
    "\n",
    "    def show_info(self):\n",
    "        print(f\"Type: {super().__typ}, Name: {super().__name}, Speed: {super()._speed} km/h, Predicted: {super().classify()}\")\n",
    "\n",
    "n = int(input(\"Number of objects : \"))\n",
    "lst = []\n",
    "for i in range(n):\n",
    "    print(f\"Object {i+1} details : \",end='')\n",
    "    inp = input().split()\n",
    "    if inp[0] == 'Car':\n",
    "        lst.append(Car(inp[0],inp[1], inp[2]))\n",
    "        print(\"Car Added : \", inp[1])\n",
    "    else:\n",
    "        lst.append(Bike(inp[0],inp[1], inp[2]))\n",
    "        print(\"Bike Added : \", inp[1])\n",
    "\n",
    "print(\"__Vehicle Details___\")\n",
    "for i in range(n):\n",
    "    lst[i].show_info()\n",
    "        "
   ]
  },
  {
   "cell_type": "code",
   "execution_count": null,
   "id": "75442dd8-c76b-4849-a09e-474f75e9fe37",
   "metadata": {},
   "outputs": [],
   "source": []
  }
 ],
 "metadata": {
  "kernelspec": {
   "display_name": "Python 3 (ipykernel)",
   "language": "python",
   "name": "python3"
  },
  "language_info": {
   "codemirror_mode": {
    "name": "ipython",
    "version": 3
   },
   "file_extension": ".py",
   "mimetype": "text/x-python",
   "name": "python",
   "nbconvert_exporter": "python",
   "pygments_lexer": "ipython3",
   "version": "3.13.5"
  }
 },
 "nbformat": 4,
 "nbformat_minor": 5
}
