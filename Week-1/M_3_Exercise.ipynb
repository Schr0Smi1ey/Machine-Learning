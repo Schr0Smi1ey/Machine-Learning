{
 "cells": [
  {
   "cell_type": "markdown",
   "id": "c76cad64-a562-414b-a5cc-174144c55022",
   "metadata": {},
   "source": [
    "1. https://codeforces.com/group/MWSDmqGsZm/contest/219774/problem/E"
   ]
  },
  {
   "cell_type": "code",
   "execution_count": null,
   "id": "21d3ae87-409e-4eef-a5b4-307717ceb525",
   "metadata": {},
   "outputs": [],
   "source": [
    "n = int(input())\n",
    "arr = list(map(int, input().split()))\n",
    "\n",
    "minima = arr[0]\n",
    "ind = 1\n",
    "\n",
    "for i in range(n):\n",
    "    if arr[i] < minima:\n",
    "        minima = arr[i]\n",
    "        ind = i + 1\n",
    "print(minima, ind)\n"
   ]
  },
  {
   "cell_type": "markdown",
   "id": "11f6328a-6819-498d-b529-e23d963bd234",
   "metadata": {},
   "source": [
    "2. https://codeforces.com/group/MWSDmqGsZm/contest/219774/problem/M"
   ]
  },
  {
   "cell_type": "code",
   "execution_count": null,
   "id": "8cac25bb-083f-4dda-94d5-d1ea733a27fc",
   "metadata": {},
   "outputs": [],
   "source": [
    "n = int(input())\n",
    "arr = list(map(int, input().split()))\n",
    "\n",
    "minima = min(arr)\n",
    "maxima = max(arr)\n",
    "\n",
    "for i in range(n):\n",
    "    if arr[i] == minima:\n",
    "        print(maxima,end=' ')\n",
    "    elif arr[i] == maxima:\n",
    "        print(minima,end=' ')\n",
    "    else:\n",
    "        print(arr[i],end=' ')"
   ]
  },
  {
   "cell_type": "markdown",
   "id": "c921afa2-cbec-4540-a9d5-af34ccb72031",
   "metadata": {},
   "source": [
    "3. https://codeforces.com/group/MWSDmqGsZm/contest/219774/problem/K"
   ]
  },
  {
   "cell_type": "code",
   "execution_count": null,
   "id": "d43adc38-17b3-428e-b628-a13ffb82ec12",
   "metadata": {},
   "outputs": [],
   "source": [
    "n = int(input())\n",
    "arr = input()\n",
    "ans = 0\n",
    "for i in range(n):\n",
    "    ans += int(arr[i])\n",
    "print(ans)"
   ]
  },
  {
   "cell_type": "markdown",
   "id": "d4d64a07-40a9-4880-bb0a-c675126e7977",
   "metadata": {},
   "source": [
    "4. https://codeforces.com/group/MWSDmqGsZm/contest/219856/problem/H"
   ]
  },
  {
   "cell_type": "code",
   "execution_count": null,
   "id": "f3dadb77-2c02-472d-9f36-dac47b791345",
   "metadata": {},
   "outputs": [],
   "source": [
    "t = int(input())\n",
    "for i in range(t):\n",
    "    str = input()\n",
    "    n = len(str)\n",
    "    if \"101\" in str or \"010\" in str:\n",
    "        print(\"Good\")\n",
    "    else:\n",
    "        print(\"Bad\")"
   ]
  },
  {
   "cell_type": "markdown",
   "id": "5d1e7d84-ed39-4f8f-a8c7-1c19f0491ca8",
   "metadata": {},
   "source": [
    "5. https://codeforces.com/group/MWSDmqGsZm/contest/219856/problem/V"
   ]
  },
  {
   "cell_type": "code",
   "execution_count": null,
   "id": "0bf215de-db85-4f46-a7b2-a676e41ce905",
   "metadata": {},
   "outputs": [],
   "source": [
    "str = input()\n",
    "ans = str\n",
    "while str.find(\"EGYPT\") != -1:\n",
    "    ans = str.replace(\"EGYPT\",' ')\n",
    "    str = ans\n",
    "print(ans)"
   ]
  }
 ],
 "metadata": {
  "kernelspec": {
   "display_name": "Python 3 (ipykernel)",
   "language": "python",
   "name": "python3"
  },
  "language_info": {
   "codemirror_mode": {
    "name": "ipython",
    "version": 3
   },
   "file_extension": ".py",
   "mimetype": "text/x-python",
   "name": "python",
   "nbconvert_exporter": "python",
   "pygments_lexer": "ipython3",
   "version": "3.13.5"
  }
 },
 "nbformat": 4,
 "nbformat_minor": 5
}
