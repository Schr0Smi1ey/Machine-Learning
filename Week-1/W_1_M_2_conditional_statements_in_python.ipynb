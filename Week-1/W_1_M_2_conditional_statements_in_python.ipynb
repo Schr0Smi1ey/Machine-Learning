{
 "cells": [
  {
   "cell_type": "markdown",
   "metadata": {
    "id": "MWISz5OdSKlW"
   },
   "source": [
    "Conditional Statements in Python\n"
   ]
  },
  {
   "cell_type": "markdown",
   "metadata": {
    "id": "NgddoJU0SVY5"
   },
   "source": [
    "1. If-else in python\n",
    "\n",
    "\n",
    "\n",
    "\n",
    "\n"
   ]
  },
  {
   "cell_type": "code",
   "execution_count": 1,
   "metadata": {
    "colab": {
     "base_uri": "https://localhost:8080/"
    },
    "executionInfo": {
     "elapsed": 35,
     "status": "ok",
     "timestamp": 1759851011675,
     "user": {
      "displayName": "Sarafat Karim",
      "userId": "08257615058707689562"
     },
     "user_tz": -360
    },
    "id": "4QtxTDzKSe8s",
    "outputId": "41fdae21-5c19-4d77-9a37-837502b88816"
   },
   "outputs": [
    {
     "name": "stdout",
     "output_type": "stream",
     "text": [
      "Go without the rain coat!\n",
      "This is a sunny day!\n"
     ]
    }
   ],
   "source": [
    "raining = False\n",
    "\n",
    "if(raining):\n",
    "  print(\"Rain coat is necessary!\")\n",
    "  print(\"Caution\")\n",
    "else:\n",
    "  print(\"Go without the rain coat!\")\n",
    "  print(\"This is a sunny day!\")\n"
   ]
  },
  {
   "cell_type": "markdown",
   "metadata": {
    "id": "Sv8XGN31S3Oy"
   },
   "source": [
    "2. Nested if-else in python\n"
   ]
  },
  {
   "cell_type": "code",
   "execution_count": 2,
   "metadata": {
    "colab": {
     "base_uri": "https://localhost:8080/"
    },
    "executionInfo": {
     "elapsed": 33,
     "status": "ok",
     "timestamp": 1759851149698,
     "user": {
      "displayName": "Sarafat Karim",
      "userId": "08257615058707689562"
     },
     "user_tz": -360
    },
    "id": "c9-mXvUlS7eV",
    "outputId": "5ca874fa-81e2-4b18-bb03-588f2181c552"
   },
   "outputs": [
    {
     "name": "stdout",
     "output_type": "stream",
     "text": [
      "Rain coat is necessary!\n",
      "Caution\n",
      "Bring sneakers!\n"
     ]
    }
   ],
   "source": [
    "raining = True\n",
    "muddy = False\n",
    "\n",
    "if(raining):\n",
    "  print(\"Rain coat is necessary!\")\n",
    "  print(\"Caution\")\n",
    "  if(muddy):\n",
    "    print(\"Go out with sandals!\")\n",
    "  else:\n",
    "    print(\"Bring sneakers!\")\n",
    "else:\n",
    "  print(\"Go without the rain coat!\")\n",
    "  print(\"This is a sunny day!\")"
   ]
  },
  {
   "cell_type": "markdown",
   "metadata": {
    "id": "DpMjmxtrTnhb"
   },
   "source": [
    "3. else-if in python"
   ]
  },
  {
   "cell_type": "code",
   "execution_count": 4,
   "metadata": {
    "colab": {
     "base_uri": "https://localhost:8080/"
    },
    "executionInfo": {
     "elapsed": 16,
     "status": "ok",
     "timestamp": 1759851334821,
     "user": {
      "displayName": "Sarafat Karim",
      "userId": "08257615058707689562"
     },
     "user_tz": -360
    },
    "id": "ZxzX1tHsTqxF",
    "outputId": "6327e586-26b3-43ba-8fe1-b18846f69980"
   },
   "outputs": [
    {
     "name": "stdout",
     "output_type": "stream",
     "text": [
      "i will save it!\n"
     ]
    }
   ],
   "source": [
    "taka = 300\n",
    "\n",
    "if taka > 800:\n",
    "  print(\"will go for a tour!\")\n",
    "elif taka > 600:\n",
    "  print(\"will go to food court!\")\n",
    "elif taka > 400:\n",
    "  print(\"will order something at home!\")\n",
    "else:\n",
    "  print(\"i will save it!\")\n"
   ]
  },
  {
   "cell_type": "markdown",
   "metadata": {
    "id": "XlMco1PXUiev"
   },
   "source": [
    "4. for loop in python\n",
    "\n",
    "\n",
    "\n",
    "*  Range(start, end, step)\n",
    "\n",
    "\n",
    "\n"
   ]
  },
  {
   "cell_type": "code",
   "execution_count": 6,
   "metadata": {
    "colab": {
     "base_uri": "https://localhost:8080/"
    },
    "executionInfo": {
     "elapsed": 11,
     "status": "ok",
     "timestamp": 1759851809895,
     "user": {
      "displayName": "Sarafat Karim",
      "userId": "08257615058707689562"
     },
     "user_tz": -360
    },
    "id": "O_WT8FxZUkPl",
    "outputId": "1fd0f84d-1087-4e5c-c808-acca8f98907c"
   },
   "outputs": [
    {
     "name": "stdout",
     "output_type": "stream",
     "text": [
      "Total sum : 45\n"
     ]
    }
   ],
   "source": [
    "sum = 0\n",
    "for i in range(10):\n",
    "  sum += i\n",
    "print(f\"Total sum : {sum}\")"
   ]
  },
  {
   "cell_type": "markdown",
   "metadata": {
    "id": "ebe2DSDgV65J"
   },
   "source": [
    "5. Nested Loop in python"
   ]
  },
  {
   "cell_type": "code",
   "execution_count": null,
   "metadata": {
    "colab": {
     "base_uri": "https://localhost:8080/"
    },
    "executionInfo": {
     "elapsed": 8,
     "status": "ok",
     "timestamp": 1759851894750,
     "user": {
      "displayName": "Sarafat Karim",
      "userId": "08257615058707689562"
     },
     "user_tz": -360
    },
    "id": "PcRKdgwaV_E_",
    "outputId": "89105344-d0ec-499b-dc78-9e71d7a0f3e5"
   },
   "outputs": [],
   "source": [
    "for i in range(1,5):\n",
    "  for j in range(i):\n",
    "    print('*',end='')\n",
    "  print()\n"
   ]
  },
  {
   "cell_type": "markdown",
   "metadata": {},
   "source": [
    "6. while loop in python"
   ]
  },
  {
   "cell_type": "code",
   "execution_count": 1,
   "metadata": {},
   "outputs": [
    {
     "name": "stdout",
     "output_type": "stream",
     "text": [
      "Count is now 0\n",
      "Count is now 1\n",
      "Count is now 2\n",
      "Count is now 3\n",
      "Count is now 4\n",
      "Count is now 5\n",
      "Count is now 6\n",
      "Count is now 7\n",
      "Count is now 8\n",
      "Count is now 9\n"
     ]
    }
   ],
   "source": [
    "count = 0\n",
    "while count < 10:\n",
    "    print(f\"Count is now {count}\")\n",
    "    count += 1\n"
   ]
  },
  {
   "cell_type": "markdown",
   "metadata": {},
   "source": [
    "7. Break and Continue in python"
   ]
  },
  {
   "cell_type": "code",
   "execution_count": 2,
   "metadata": {},
   "outputs": [
    {
     "name": "stdout",
     "output_type": "stream",
     "text": [
      "Sum is now 2\n",
      "Sum is now 6\n",
      "Sum is now 12\n",
      "Sum is now 20\n",
      "Sum is now 30\n",
      "Sum is now 42\n",
      "Sum is now 56\n",
      "Sum is now 72\n",
      "Sum is now 90\n",
      "Sum is now 110\n"
     ]
    }
   ],
   "source": [
    "# printing only the even number from 1-50 and stopping when total sum is 100\n",
    "\n",
    "sum = 0\n",
    "for i in range(1,50):\n",
    "    if i % 2 == 1:\n",
    "        continue\n",
    "    sum += i\n",
    "    print(f\"Sum is now {sum}\")\n",
    "    if sum > 100:\n",
    "        break"
   ]
  },
  {
   "cell_type": "markdown",
   "metadata": {},
   "source": [
    "8. https://codeforces.com/group/MWSDmqGsZm/contest/219158/problem/K"
   ]
  },
  {
   "cell_type": "code",
   "execution_count": null,
   "metadata": {},
   "outputs": [],
   "source": [
    "a, b, c = map(int, input().split())\n",
    "\n",
    "if a <= b and a <= c:\n",
    "    print(a,end=\" \")\n",
    "elif b <= a and b <= c:\n",
    "    print(b,end=\" \")\n",
    "else:\n",
    "    print(c,end=\" \")\n",
    "\n",
    "if a >= b and a >= c:\n",
    "    print(a,end=\"\")\n",
    "elif b >= a and b >= c:\n",
    "    print(b,end=\"\")\n",
    "else:\n",
    "    print(c,end=\"\")"
   ]
  },
  {
   "cell_type": "markdown",
   "metadata": {},
   "source": [
    "9. https://codeforces.com/group/MWSDmqGsZm/contest/219432/problem/Q"
   ]
  },
  {
   "cell_type": "code",
   "execution_count": null,
   "metadata": {},
   "outputs": [],
   "source": [
    "n = int(input())\n",
    "\n",
    "for i in range(n):\n",
    "    num = int(input())\n",
    "    if num == 0:\n",
    "        print(0)\n",
    "        continue\n",
    "    while num > 0:\n",
    "        print(num % 10, end='' if num // 10 == 0 else ' ')\n",
    "        num = num // 10 \n",
    "    print()\n"
   ]
  },
  {
   "cell_type": "markdown",
   "metadata": {},
   "source": [
    "10. https://codeforces.com/group/MWSDmqGsZm/contest/219432/problem/C"
   ]
  },
  {
   "cell_type": "code",
   "execution_count": null,
   "metadata": {},
   "outputs": [],
   "source": [
    "n = int(input())\n",
    "arr = map(int, input().split())\n",
    "\n",
    "even = odd = pos = neg = 0\n",
    "for num in arr:\n",
    "    even += (num % 2 == 0)\n",
    "    odd += (num % 2 == 1)\n",
    "    pos += (num > 0)\n",
    "    neg += (num < 0)\n",
    "\n",
    "print(f\"Even: {even}\")\n",
    "print(f\"Odd: {odd}\")\n",
    "print(f\"Positive: {pos}\")\n",
    "print(f\"Negative: {neg}\",end='')"
   ]
  }
 ],
 "metadata": {
  "colab": {
   "authorship_tag": "ABX9TyP2Dsak41gdqZp64uKTIjmF",
   "provenance": []
  },
  "kernelspec": {
   "display_name": "Python 3",
   "name": "python3"
  },
  "language_info": {
   "codemirror_mode": {
    "name": "ipython",
    "version": 3
   },
   "file_extension": ".py",
   "mimetype": "text/x-python",
   "name": "python",
   "nbconvert_exporter": "python",
   "pygments_lexer": "ipython3",
   "version": "3.13.3"
  }
 },
 "nbformat": 4,
 "nbformat_minor": 0
}
