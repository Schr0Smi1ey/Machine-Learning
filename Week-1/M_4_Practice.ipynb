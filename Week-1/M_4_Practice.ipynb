{
 "cells": [
  {
   "cell_type": "markdown",
   "id": "e165cf3f",
   "metadata": {},
   "source": [
    "PRACTICE LINK: https://www.hackerrank.com/ai-ml-module-4-practice-day-1"
   ]
  },
  {
   "cell_type": "markdown",
   "id": "973a5274",
   "metadata": {},
   "source": [
    "1. Smart Light Pilot"
   ]
  },
  {
   "cell_type": "code",
   "execution_count": null,
   "id": "774d3a6f",
   "metadata": {
    "vscode": {
     "languageId": "plaintext"
    }
   },
   "outputs": [],
   "source": [
    "ab = input().split()\n",
    "a = float(ab[0])\n",
    "b = float(ab[1])\n",
    "if a >= b:\n",
    "    print(\"ON\")\n",
    "else:\n",
    "    print(\"OFF\")"
   ]
  },
  {
   "cell_type": "markdown",
   "id": "ee8b6a3b",
   "metadata": {},
   "source": [
    "2. Sensor Calibrator — Min-Max Scaling"
   ]
  },
  {
   "cell_type": "code",
   "execution_count": null,
   "id": "499956b1",
   "metadata": {
    "vscode": {
     "languageId": "plaintext"
    }
   },
   "outputs": [],
   "source": [
    "x, min_v, max_v = list(map(float, input().split()))\n",
    "print(f\"{(x - min_v) / (max_v - min_v):.2f}\")"
   ]
  },
  {
   "cell_type": "markdown",
   "id": "70c49cea",
   "metadata": {},
   "source": [
    "3. Mini Loss Tracker"
   ]
  },
  {
   "cell_type": "code",
   "execution_count": null,
   "id": "afcf6dde",
   "metadata": {
    "vscode": {
     "languageId": "plaintext"
    }
   },
   "outputs": [],
   "source": [
    "n = int(input())\n",
    "target = float(input())\n",
    "sum = 0.0\n",
    "for i in range(n):\n",
    "    sum += float(input())\n",
    "if((sum / n) <= target):\n",
    "    print(\"PASS\")\n",
    "else:\n",
    "    print(\"RETRY\")\n",
    "    "
   ]
  },
  {
   "cell_type": "markdown",
   "id": "d47bf5a7",
   "metadata": {},
   "source": [
    "4. Majority Vote Gate"
   ]
  },
  {
   "cell_type": "code",
   "execution_count": null,
   "id": "fd13ea80",
   "metadata": {
    "vscode": {
     "languageId": "plaintext"
    }
   },
   "outputs": [],
   "source": [
    "n = int(input())\n",
    "yes = no = 0\n",
    "\n",
    "for i in range(n):\n",
    "    str = input()\n",
    "    yes += str == \"YES\"\n",
    "    no += str == \"NO\"\n",
    "if(yes >= no):\n",
    "    print(\"ACCEPT\")\n",
    "else:\n",
    "    print(\"REJECT\")\n"
   ]
  },
  {
   "cell_type": "markdown",
   "id": "13e40c70",
   "metadata": {},
   "source": [
    "5. AI Mood Detector"
   ]
  },
  {
   "cell_type": "code",
   "execution_count": null,
   "id": "2efc0c7f",
   "metadata": {
    "vscode": {
     "languageId": "plaintext"
    }
   },
   "outputs": [],
   "source": [
    "str = input()\n",
    "\n",
    "if any(word in str for word in ['happy','joy','smile']):\n",
    "    print(\"Happy Mood\")\n",
    "elif any(word in str for word in ['sad', 'cry', 'angry']):\n",
    "    print(\"Sad Mood\")\n",
    "else:\n",
    "    print(\"Neutral Mood\")"
   ]
  },
  {
   "cell_type": "markdown",
   "id": "10427b68",
   "metadata": {},
   "source": [
    "6. AI Brightness Analyzer"
   ]
  },
  {
   "cell_type": "code",
   "execution_count": null,
   "id": "c5b0a6cd",
   "metadata": {
    "vscode": {
     "languageId": "plaintext"
    }
   },
   "outputs": [],
   "source": [
    "arr = list(map(int, input().split()))\n",
    "\n",
    "sum = 0\n",
    "for val in arr:\n",
    "    sum += val\n",
    "avg = sum / len(arr)\n",
    "\n",
    "if avg < 85:\n",
    "    print(\"Dark Image\")\n",
    "elif avg >= 85 and avg <= 170:\n",
    "    print(\"Normal Image\")\n",
    "else:\n",
    "    print(\"Bright Image\")"
   ]
  },
  {
   "cell_type": "markdown",
   "id": "02766957",
   "metadata": {},
   "source": [
    "7. AI Bias Detector"
   ]
  },
  {
   "cell_type": "code",
   "execution_count": null,
   "id": "870cebc9",
   "metadata": {
    "vscode": {
     "languageId": "plaintext"
    }
   },
   "outputs": [],
   "source": [
    "arr = input().split()\n",
    "\n",
    "a = b = 0\n",
    "for val in arr:\n",
    "    a += (val == 'A')\n",
    "    b += (val == 'B')\n",
    "if ((a / len(arr)) * 100) > 70 or ((b / len(arr)) * 100) > 70:\n",
    "    print(\"Biased Model\")\n",
    "else:\n",
    "    print(\"Fair Model\")"
   ]
  },
  {
   "cell_type": "markdown",
   "id": "73d30d30",
   "metadata": {},
   "source": [
    "8. AI Keyword Counter"
   ]
  },
  {
   "cell_type": "code",
   "execution_count": null,
   "id": "6823315c",
   "metadata": {
    "vscode": {
     "languageId": "plaintext"
    }
   },
   "outputs": [],
   "source": [
    "str = input().split()\n",
    "\n",
    "words = ['ai', 'data', 'model', 'learn', 'neural','train']\n",
    "cnt = 0\n",
    "for word in words:\n",
    "    cnt += word in str\n",
    "if cnt >= 2:\n",
    "    print(\"AI Detected\",end='')\n",
    "else:\n",
    "    print(\"Not AI Related\",end='')\n",
    "\n"
   ]
  }
 ],
 "metadata": {
  "language_info": {
   "name": "python"
  }
 },
 "nbformat": 4,
 "nbformat_minor": 5
}
