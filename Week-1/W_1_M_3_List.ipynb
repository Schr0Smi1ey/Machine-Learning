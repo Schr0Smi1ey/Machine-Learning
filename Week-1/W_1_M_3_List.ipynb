{
 "cells": [
  {
   "cell_type": "markdown",
   "id": "9cdfe4fd-6b4a-495f-a556-b42655a262e1",
   "metadata": {},
   "source": [
    "1. Basic List\n",
    "   * List is mutable"
   ]
  },
  {
   "cell_type": "code",
   "execution_count": 4,
   "id": "180834f4-0a2e-4836-b9f6-aa7b5f4191ed",
   "metadata": {},
   "outputs": [
    {
     "name": "stdout",
     "output_type": "stream",
     "text": [
      "[1, 2, 3, 4, 5]\n",
      "[1.0, 2.0, 3.0]\n",
      "['Sarafat', 'Karim', 'Sajjad', 'Milon']\n",
      "[12, 12.5, 'mixed list']\n",
      "1\n",
      "6\n"
     ]
    }
   ],
   "source": [
    "# list of one data type\n",
    "lst = [1, 2, 3, 4, 5]\n",
    "float_lst = [1.0, 2.0, 3.0]\n",
    "string_lst = [\"Sarafat\", \"Karim\", \"Sajjad\", \"Milon\"]\n",
    "\n",
    "# list of multiple data types in one\n",
    "mix_lst = [12, 12.5, \"mixed list\"]\n",
    "\n",
    "print(lst)\n",
    "print(float_lst)\n",
    "print(string_lst)\n",
    "print(mix_lst)\n",
    "\n",
    "\n",
    "# Mutability of list\n",
    "\n",
    "print(lst[0]) # lst[0] before\n",
    "lst[0] = 6\n",
    "print(lst[0]) # lst[0] after"
   ]
  },
  {
   "cell_type": "markdown",
   "id": "dcb6c1ea-e293-47cf-ae50-f9f9e673a3cd",
   "metadata": {},
   "source": [
    "2. List Methods:\n",
    "   * Append: add a value at the end of the list.\n",
    "   * insert: insert a value at a specific position of the list.\n",
    "   * pop: remove the last element of the list and return it.\n",
    "   * remove: remove the first occurrences of a value.\n",
    "   * sort: sort a list either ascending or descending."
   ]
  },
  {
   "cell_type": "code",
   "execution_count": 14,
   "id": "5c5c09c8-c851-4cf4-978e-a2997ad8e7ef",
   "metadata": {},
   "outputs": [
    {
     "name": "stdout",
     "output_type": "stream",
     "text": [
      "[1, 2, 3, 4, 5.0, 3.4, 'Sarafat', 'Sajjad', 'Sajjad', 'Milon', 'Appended!']\n",
      "['Inserted!', 1, 2, 3, 4, 5.0, 3.4, 'Sarafat', 'Sajjad', 'Sajjad', 'Milon', 'Appended!']\n",
      "popped --->  ['Inserted!', 1, 2, 3, 4, 5.0, 3.4, 'Sarafat', 'Sajjad', 'Sajjad', 'Milon']\n",
      "Removed --->  ['Inserted!', 1, 2, 3, 4, 5.0, 3.4, 'Sarafat', 'Sajjad', 'Milon']\n",
      "Sorted List --->  [1, 1, 2, 2, 3, 3, 4, 4, 4, 5, 5, 5, 6, 6, 7, 8]\n"
     ]
    }
   ],
   "source": [
    "lst = [1, 2, 3, 4, 5.0, 3.4, \"Sarafat\", \"Sajjad\", \"Sajjad\", \"Milon\"]\n",
    "\n",
    "# append\n",
    "lst.append('Appended!')\n",
    "print(lst)\n",
    "\n",
    "# insert\n",
    "lst.insert(0, \"Inserted!\")\n",
    "print(lst)\n",
    "\n",
    "# pop\n",
    "lst.pop()\n",
    "print(\"popped ---> \", lst)\n",
    "\n",
    "# remove\n",
    "lst.remove('Sajjad')\n",
    "print(\"Removed ---> \", lst)\n",
    "\n",
    "# ascending sort\n",
    "new_lst = [1,5,4,2,4,6,7,8,3,1,3,5,6,2,4,5]\n",
    "new_lst.sort()\n",
    "print(\"Sorted List ---> \", new_lst)\n",
    "\n",
    "# descending sort\n",
    "new_lst.sort(reverse=True)"
   ]
  }
 ],
 "metadata": {
  "kernelspec": {
   "display_name": "Python 3 (ipykernel)",
   "language": "python",
   "name": "python3"
  },
  "language_info": {
   "codemirror_mode": {
    "name": "ipython",
    "version": 3
   },
   "file_extension": ".py",
   "mimetype": "text/x-python",
   "name": "python",
   "nbconvert_exporter": "python",
   "pygments_lexer": "ipython3",
   "version": "3.13.5"
  }
 },
 "nbformat": 4,
 "nbformat_minor": 5
}
