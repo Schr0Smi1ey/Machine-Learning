{
 "cells": [
  {
   "cell_type": "markdown",
   "id": "35118e5c-1800-4e23-87bb-5ccbe92cbdeb",
   "metadata": {},
   "source": [
    "1. Single Line String"
   ]
  },
  {
   "cell_type": "code",
   "execution_count": 2,
   "id": "8de0a921-86de-468b-a708-b464d399a1d0",
   "metadata": {},
   "outputs": [
    {
     "name": "stdout",
     "output_type": "stream",
     "text": [
      "Hello, world!\n",
      "<class 'str'>\n"
     ]
    }
   ],
   "source": [
    "str = \"Hello, world!\"\n",
    "print(str)\n",
    "print(type(str))"
   ]
  },
  {
   "cell_type": "markdown",
   "id": "33af04f4-6f76-4327-983a-d872c0583cb8",
   "metadata": {},
   "source": [
    "2. Multi Line String --> we use \"\"\" \"\"\" for multi line string"
   ]
  },
  {
   "cell_type": "code",
   "execution_count": 3,
   "id": "cc889a65-f22e-4cd1-a1ef-5c4ec9731400",
   "metadata": {},
   "outputs": [
    {
     "name": "stdout",
     "output_type": "stream",
     "text": [
      "Hello, tell me about yourself?\n",
      "what language currently you are learning?\n"
     ]
    }
   ],
   "source": [
    "str = \"\"\"Hello, tell me about yourself?\n",
    "what language currently you are learning?\"\"\"\n",
    "print(str)"
   ]
  },
  {
   "cell_type": "markdown",
   "id": "5f42ff18-3d0d-404d-acd7-e9505a96aa20",
   "metadata": {},
   "source": [
    "3. Indexing & Slicing\n",
    "   * indexing: string[start : end: step]"
   ]
  },
  {
   "cell_type": "code",
   "execution_count": 7,
   "id": "86153bbd-1f07-462b-9587-cc96e2470fa8",
   "metadata": {},
   "outputs": [
    {
     "name": "stdout",
     "output_type": "stream",
     "text": [
      "Hello, tell me about yourself?\n",
      "Hlo elm bu oref\n"
     ]
    }
   ],
   "source": [
    "first_message = str[0:30]\n",
    "print(first_message)\n",
    "second_message = str[0:30:2] # with step 2\n",
    "print(second_message)"
   ]
  },
  {
   "cell_type": "markdown",
   "id": "9862737a-684c-4db8-9350-0f56b80288e0",
   "metadata": {},
   "source": [
    "4. Reverse Indexing: In reverse index, the last character index is (-1) and followed by decreasing by one to the first character"
   ]
  },
  {
   "cell_type": "code",
   "execution_count": 9,
   "id": "d06cd678-a2b1-4ccf-9085-6ab958242391",
   "metadata": {},
   "outputs": [
    {
     "name": "stdout",
     "output_type": "stream",
     "text": [
      "n\n",
      "o\n",
      "l\n",
      "Milon\n"
     ]
    }
   ],
   "source": [
    "str = \"Sarafat Karim Sajjad Milon\"\n",
    "print(str[-1])\n",
    "print(str[-2])\n",
    "print(str[-3])\n",
    "print(str[-5:])"
   ]
  },
  {
   "cell_type": "markdown",
   "id": "cc0ef082-ad86-49db-bf65-0972976d4d5e",
   "metadata": {},
   "source": [
    "5. String Methods"
   ]
  },
  {
   "cell_type": "code",
   "execution_count": 23,
   "id": "39219447-0e2b-471b-835a-df3a3f1844f5",
   "metadata": {},
   "outputs": [
    {
     "name": "stdout",
     "output_type": "stream",
     "text": [
      "String Length: 39\n",
      "Lower case str: sarafat karim karim sajjad karim milon.\n",
      "Upper case str: SARAFAT KARIM KARIM SAJJAD KARIM MILON.\n",
      "True\n",
      "True\n",
      "True\n",
      "number of 'a' in str 8\n",
      "number of 'karim' in str 3\n",
      "substring 'karim' starts from 8\n",
      "substring 'karim' from reverse in index 27\n",
      "sarafat milon milon sajjad milon milon.\n"
     ]
    }
   ],
   "source": [
    "str = \"Sarafat Karim karim Sajjad karim Milon.\"\n",
    "\n",
    "# string length\n",
    "print(f\"String Length: {len(str)}\")\n",
    "\n",
    "# convert to lowercase string\n",
    "lower_str = str.lower()\n",
    "print(f\"Lower case str: {lower_str}\")\n",
    "\n",
    "# convert to uppercase string\n",
    "upper_str = str.upper()\n",
    "print(f\"Upper case str: {upper_str}\")\n",
    "\n",
    "# searching a value ---> python is case sensitive\n",
    "print(\"karim\" in str)  # False (karim not present, but Karim is present)\n",
    "print(\"karim\" in lower_str) # True\n",
    "print(\"KARIM\" in upper_str) # True\n",
    "\n",
    "# counting a specific value(char or string) in the string\n",
    "print(f\"number of 'a' in str {str.count('a')}\")\n",
    "print(f\"number of 'karim' in str {lower_str.count('karim')}\")\n",
    "\n",
    "# returns the starting index of a substring from the beginning\n",
    "print(f\"substring 'karim' starts from {lower_str.find('karim')}\")\n",
    "\n",
    "# returns the starting index of a substring from the reverse\n",
    "print(f\"substring 'karim' from reverse in index {lower_str.rfind('karim')}\")\n",
    "\n",
    "# replacing a substring with another string...(string is immutable...so the original string won't be changed...what we can do...we can store the muted string in another new string)\n",
    "replaced_string = lower_str.replace('karim', 'milon')\n",
    "print(replaced_string)"
   ]
  },
  {
   "cell_type": "markdown",
   "id": "b390186a-a767-4a6a-bb7c-c6592702c4a6",
   "metadata": {},
   "source": [
    "6. String split and joining\n",
    "   * split = split the string based on a separator and store in a list as tokens!\n",
    "   * join = join all the tokens of the list with a specified separator and create a string!"
   ]
  },
  {
   "cell_type": "code",
   "execution_count": 25,
   "id": "fd9a1e16-2fb5-4db4-9ca8-afd02ddc66df",
   "metadata": {},
   "outputs": [
    {
     "name": "stdout",
     "output_type": "stream",
     "text": [
      "['Sarafat', 'Karim', 'Sajjad', 'Milon']\n",
      "Sarafat,Karim,Sajjad,Milon\n",
      "['Sarafat', 'Karim', 'Sajjad', 'Milon']\n",
      "Sarafat--Karim--Sajjad--Milon\n"
     ]
    }
   ],
   "source": [
    "str = \"Sarafat Karim Sajjad Milon\"\n",
    "tokens = str.split() # by default it split the string by a white space(' ')\n",
    "print(tokens)\n",
    "joined_str = ','.join(tokens) # joining all the tokens with a comma(,)\n",
    "print(joined_str)\n",
    "\n",
    "tokens = joined_str.split(',') # separating by comma\n",
    "print(tokens)\n",
    "joined_str = '--'.join(tokens)\n",
    "print(joined_str)\n",
    "\n"
   ]
  },
  {
   "cell_type": "markdown",
   "id": "2214657b-1232-4b86-bab6-111df8c200d1",
   "metadata": {},
   "source": [
    "7. formatted string(f-string)"
   ]
  },
  {
   "cell_type": "code",
   "execution_count": 28,
   "id": "eeed8273-f612-4a82-8a09-44dccce12a7b",
   "metadata": {},
   "outputs": [
    {
     "name": "stdout",
     "output_type": "stream",
     "text": [
      "The student name is Sarafat Karim. His student ID is 220216. Height and weight of the student are 5.7 inches and 64 kg.\n"
     ]
    }
   ],
   "source": [
    "name = \"Sarafat Karim\"\n",
    "id = 220216\n",
    "height = 5.6573\n",
    "weight = 64\n",
    "\n",
    "info = f\"The student name is {name}. His student ID is {id}. Height and weight of the student are {height:.2} inches and {weight} kg.\"\n",
    "print(info)"
   ]
  },
  {
   "cell_type": "code",
   "execution_count": null,
   "id": "1cda35f0-c18d-4c38-aa97-6e92806ce6c4",
   "metadata": {},
   "outputs": [],
   "source": []
  }
 ],
 "metadata": {
  "kernelspec": {
   "display_name": "Python 3 (ipykernel)",
   "language": "python",
   "name": "python3"
  },
  "language_info": {
   "codemirror_mode": {
    "name": "ipython",
    "version": 3
   },
   "file_extension": ".py",
   "mimetype": "text/x-python",
   "name": "python",
   "nbconvert_exporter": "python",
   "pygments_lexer": "ipython3",
   "version": "3.13.5"
  }
 },
 "nbformat": 4,
 "nbformat_minor": 5
}
