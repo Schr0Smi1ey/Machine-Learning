{
 "cells": [
  {
   "cell_type": "markdown",
   "id": "67278f3a",
   "metadata": {},
   "source": [
    "1. https://www.hackerrank.com/challenges/python-tuples/problem"
   ]
  },
  {
   "cell_type": "code",
   "execution_count": null,
   "id": "6ee98ab5",
   "metadata": {},
   "outputs": [],
   "source": [
    "# python 2 code this is\n",
    "\n",
    "# if __name__ == '__main__':\n",
    "#     n = int(raw_input())\n",
    "#     integer_list = map(int, raw_input().split())\n",
    "#     tup = tuple(integer_list)\n",
    "#     print hash(tup)\n"
   ]
  },
  {
   "cell_type": "markdown",
   "id": "26894ae1",
   "metadata": {},
   "source": [
    "2. https://www.hackerrank.com/challenges/no-idea/problem "
   ]
  },
  {
   "cell_type": "code",
   "execution_count": null,
   "id": "91c27894",
   "metadata": {},
   "outputs": [],
   "source": [
    "n, m = tuple(map(int, input().split()))\n",
    "arr = list(map(int, input().split()))\n",
    "a = set(map(int, input().split()))\n",
    "b = set(map(int, input().split()))\n",
    "\n",
    "happiness = 0\n",
    "for i in range(n):\n",
    "    if arr[i] in a:\n",
    "        happiness += 1\n",
    "    elif arr[i] in b:\n",
    "        happiness -= 1\n",
    "print(happiness)"
   ]
  }
 ],
 "metadata": {
  "kernelspec": {
   "display_name": "base",
   "language": "python",
   "name": "python3"
  },
  "language_info": {
   "name": "python",
   "version": "3.13.5"
  }
 },
 "nbformat": 4,
 "nbformat_minor": 5
}
